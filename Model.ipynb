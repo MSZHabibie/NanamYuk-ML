{
  "nbformat": 4,
  "nbformat_minor": 0,
  "metadata": {
    "colab": {
      "name": "Model.ipynb",
      "provenance": [],
      "mount_file_id": "1L_9Hj1KWWC5kVM99r7z5JFLUsEkGvKQg",
      "authorship_tag": "ABX9TyNuuEw/egKej16XRuchCJ5l",
      "include_colab_link": true
    },
    "kernelspec": {
      "name": "python3",
      "display_name": "Python 3"
    },
    "language_info": {
      "name": "python"
    }
  },
  "cells": [
    {
      "cell_type": "markdown",
      "metadata": {
        "id": "view-in-github",
        "colab_type": "text"
      },
      "source": [
        "<a href=\"https://colab.research.google.com/github/MSZHabibie/NanamYuk-ML/blob/main/Model.ipynb\" target=\"_parent\"><img src=\"https://colab.research.google.com/assets/colab-badge.svg\" alt=\"Open In Colab\"/></a>"
      ]
    },
    {
      "cell_type": "code",
      "execution_count": 1,
      "metadata": {
        "id": "H71jO1o9C18C"
      },
      "outputs": [],
      "source": [
        "import tensorflow as tf\n",
        "import pandas as pd\n",
        "import numpy as np\n",
        "from tensorflow.keras import datasets, layers, models\n",
        "from tensorflow.keras.utils import to_categorical\n",
        "import matplotlib.pyplot as plt"
      ]
    },
    {
      "cell_type": "code",
      "source": [
        "class myCallback(tf.keras.callbacks.Callback):\n",
        "  def on_epoch_end(self, epoch, logs={}):\n",
        "    '''\n",
        "    Halts the training after reaching 60 percent accuracy\n",
        "\n",
        "    Args:\n",
        "      epoch (integer) - index of epoch (required but unused in the function definition below)\n",
        "      logs (dict) - metric results from the training epoch\n",
        "    '''\n",
        "\n",
        "    # Check accuracy\n",
        "    if(logs.get('accuracy') > 0.9):\n",
        "\n",
        "      # Stop if threshold is met\n",
        "      print(\"\\naccuracy is more than 0.8 so cancelling training!\")\n",
        "      self.model.stop_training = True\n",
        "\n",
        "# Instantiate class\n",
        "callbacks = myCallback()"
      ],
      "metadata": {
        "id": "I65c2ioXC9c-"
      },
      "execution_count": 2,
      "outputs": []
    },
    {
      "cell_type": "code",
      "source": [
        "df = pd.read_csv('/content/drive/My Drive/Product Based Capstone/dataset.csv')\n",
        "df"
      ],
      "metadata": {
        "colab": {
          "base_uri": "https://localhost:8080/",
          "height": 424
        },
        "id": "WO0s-e4yDomH",
        "outputId": "f251f017-3668-4d01-f602-c1c3bd6cd49f"
      },
      "execution_count": 3,
      "outputs": [
        {
          "output_type": "execute_result",
          "data": {
            "text/plain": [
              "      Temperature  Soil  Light  Humid  Rainfall        Label\n",
              "0           27.13     2      1  56.52    120.57  Bayam Hijau\n",
              "1           29.30     2      1  50.11    153.08  Bayam Hijau\n",
              "2           27.84     2      1  55.23    101.82  Bayam Hijau\n",
              "3           27.08     2      1  57.80    124.50  Bayam Hijau\n",
              "4           25.51     2      1  50.48    160.80  Bayam Hijau\n",
              "...           ...   ...    ...    ...       ...          ...\n",
              "5995        35.03     2      1  57.95    106.46       Melati\n",
              "5996        32.30     3      1  77.48    111.64       Melati\n",
              "5997        27.53     2      1  61.81    112.66       Melati\n",
              "5998        24.42     2      1  51.06    118.05       Melati\n",
              "5999        30.27     1      1  56.51    103.67       Melati\n",
              "\n",
              "[6000 rows x 6 columns]"
            ],
            "text/html": [
              "\n",
              "  <div id=\"df-cb27b714-8442-4375-978d-13983b9f97e7\">\n",
              "    <div class=\"colab-df-container\">\n",
              "      <div>\n",
              "<style scoped>\n",
              "    .dataframe tbody tr th:only-of-type {\n",
              "        vertical-align: middle;\n",
              "    }\n",
              "\n",
              "    .dataframe tbody tr th {\n",
              "        vertical-align: top;\n",
              "    }\n",
              "\n",
              "    .dataframe thead th {\n",
              "        text-align: right;\n",
              "    }\n",
              "</style>\n",
              "<table border=\"1\" class=\"dataframe\">\n",
              "  <thead>\n",
              "    <tr style=\"text-align: right;\">\n",
              "      <th></th>\n",
              "      <th>Temperature</th>\n",
              "      <th>Soil</th>\n",
              "      <th>Light</th>\n",
              "      <th>Humid</th>\n",
              "      <th>Rainfall</th>\n",
              "      <th>Label</th>\n",
              "    </tr>\n",
              "  </thead>\n",
              "  <tbody>\n",
              "    <tr>\n",
              "      <th>0</th>\n",
              "      <td>27.13</td>\n",
              "      <td>2</td>\n",
              "      <td>1</td>\n",
              "      <td>56.52</td>\n",
              "      <td>120.57</td>\n",
              "      <td>Bayam Hijau</td>\n",
              "    </tr>\n",
              "    <tr>\n",
              "      <th>1</th>\n",
              "      <td>29.30</td>\n",
              "      <td>2</td>\n",
              "      <td>1</td>\n",
              "      <td>50.11</td>\n",
              "      <td>153.08</td>\n",
              "      <td>Bayam Hijau</td>\n",
              "    </tr>\n",
              "    <tr>\n",
              "      <th>2</th>\n",
              "      <td>27.84</td>\n",
              "      <td>2</td>\n",
              "      <td>1</td>\n",
              "      <td>55.23</td>\n",
              "      <td>101.82</td>\n",
              "      <td>Bayam Hijau</td>\n",
              "    </tr>\n",
              "    <tr>\n",
              "      <th>3</th>\n",
              "      <td>27.08</td>\n",
              "      <td>2</td>\n",
              "      <td>1</td>\n",
              "      <td>57.80</td>\n",
              "      <td>124.50</td>\n",
              "      <td>Bayam Hijau</td>\n",
              "    </tr>\n",
              "    <tr>\n",
              "      <th>4</th>\n",
              "      <td>25.51</td>\n",
              "      <td>2</td>\n",
              "      <td>1</td>\n",
              "      <td>50.48</td>\n",
              "      <td>160.80</td>\n",
              "      <td>Bayam Hijau</td>\n",
              "    </tr>\n",
              "    <tr>\n",
              "      <th>...</th>\n",
              "      <td>...</td>\n",
              "      <td>...</td>\n",
              "      <td>...</td>\n",
              "      <td>...</td>\n",
              "      <td>...</td>\n",
              "      <td>...</td>\n",
              "    </tr>\n",
              "    <tr>\n",
              "      <th>5995</th>\n",
              "      <td>35.03</td>\n",
              "      <td>2</td>\n",
              "      <td>1</td>\n",
              "      <td>57.95</td>\n",
              "      <td>106.46</td>\n",
              "      <td>Melati</td>\n",
              "    </tr>\n",
              "    <tr>\n",
              "      <th>5996</th>\n",
              "      <td>32.30</td>\n",
              "      <td>3</td>\n",
              "      <td>1</td>\n",
              "      <td>77.48</td>\n",
              "      <td>111.64</td>\n",
              "      <td>Melati</td>\n",
              "    </tr>\n",
              "    <tr>\n",
              "      <th>5997</th>\n",
              "      <td>27.53</td>\n",
              "      <td>2</td>\n",
              "      <td>1</td>\n",
              "      <td>61.81</td>\n",
              "      <td>112.66</td>\n",
              "      <td>Melati</td>\n",
              "    </tr>\n",
              "    <tr>\n",
              "      <th>5998</th>\n",
              "      <td>24.42</td>\n",
              "      <td>2</td>\n",
              "      <td>1</td>\n",
              "      <td>51.06</td>\n",
              "      <td>118.05</td>\n",
              "      <td>Melati</td>\n",
              "    </tr>\n",
              "    <tr>\n",
              "      <th>5999</th>\n",
              "      <td>30.27</td>\n",
              "      <td>1</td>\n",
              "      <td>1</td>\n",
              "      <td>56.51</td>\n",
              "      <td>103.67</td>\n",
              "      <td>Melati</td>\n",
              "    </tr>\n",
              "  </tbody>\n",
              "</table>\n",
              "<p>6000 rows × 6 columns</p>\n",
              "</div>\n",
              "      <button class=\"colab-df-convert\" onclick=\"convertToInteractive('df-cb27b714-8442-4375-978d-13983b9f97e7')\"\n",
              "              title=\"Convert this dataframe to an interactive table.\"\n",
              "              style=\"display:none;\">\n",
              "        \n",
              "  <svg xmlns=\"http://www.w3.org/2000/svg\" height=\"24px\"viewBox=\"0 0 24 24\"\n",
              "       width=\"24px\">\n",
              "    <path d=\"M0 0h24v24H0V0z\" fill=\"none\"/>\n",
              "    <path d=\"M18.56 5.44l.94 2.06.94-2.06 2.06-.94-2.06-.94-.94-2.06-.94 2.06-2.06.94zm-11 1L8.5 8.5l.94-2.06 2.06-.94-2.06-.94L8.5 2.5l-.94 2.06-2.06.94zm10 10l.94 2.06.94-2.06 2.06-.94-2.06-.94-.94-2.06-.94 2.06-2.06.94z\"/><path d=\"M17.41 7.96l-1.37-1.37c-.4-.4-.92-.59-1.43-.59-.52 0-1.04.2-1.43.59L10.3 9.45l-7.72 7.72c-.78.78-.78 2.05 0 2.83L4 21.41c.39.39.9.59 1.41.59.51 0 1.02-.2 1.41-.59l7.78-7.78 2.81-2.81c.8-.78.8-2.07 0-2.86zM5.41 20L4 18.59l7.72-7.72 1.47 1.35L5.41 20z\"/>\n",
              "  </svg>\n",
              "      </button>\n",
              "      \n",
              "  <style>\n",
              "    .colab-df-container {\n",
              "      display:flex;\n",
              "      flex-wrap:wrap;\n",
              "      gap: 12px;\n",
              "    }\n",
              "\n",
              "    .colab-df-convert {\n",
              "      background-color: #E8F0FE;\n",
              "      border: none;\n",
              "      border-radius: 50%;\n",
              "      cursor: pointer;\n",
              "      display: none;\n",
              "      fill: #1967D2;\n",
              "      height: 32px;\n",
              "      padding: 0 0 0 0;\n",
              "      width: 32px;\n",
              "    }\n",
              "\n",
              "    .colab-df-convert:hover {\n",
              "      background-color: #E2EBFA;\n",
              "      box-shadow: 0px 1px 2px rgba(60, 64, 67, 0.3), 0px 1px 3px 1px rgba(60, 64, 67, 0.15);\n",
              "      fill: #174EA6;\n",
              "    }\n",
              "\n",
              "    [theme=dark] .colab-df-convert {\n",
              "      background-color: #3B4455;\n",
              "      fill: #D2E3FC;\n",
              "    }\n",
              "\n",
              "    [theme=dark] .colab-df-convert:hover {\n",
              "      background-color: #434B5C;\n",
              "      box-shadow: 0px 1px 3px 1px rgba(0, 0, 0, 0.15);\n",
              "      filter: drop-shadow(0px 1px 2px rgba(0, 0, 0, 0.3));\n",
              "      fill: #FFFFFF;\n",
              "    }\n",
              "  </style>\n",
              "\n",
              "      <script>\n",
              "        const buttonEl =\n",
              "          document.querySelector('#df-cb27b714-8442-4375-978d-13983b9f97e7 button.colab-df-convert');\n",
              "        buttonEl.style.display =\n",
              "          google.colab.kernel.accessAllowed ? 'block' : 'none';\n",
              "\n",
              "        async function convertToInteractive(key) {\n",
              "          const element = document.querySelector('#df-cb27b714-8442-4375-978d-13983b9f97e7');\n",
              "          const dataTable =\n",
              "            await google.colab.kernel.invokeFunction('convertToInteractive',\n",
              "                                                     [key], {});\n",
              "          if (!dataTable) return;\n",
              "\n",
              "          const docLinkHtml = 'Like what you see? Visit the ' +\n",
              "            '<a target=\"_blank\" href=https://colab.research.google.com/notebooks/data_table.ipynb>data table notebook</a>'\n",
              "            + ' to learn more about interactive tables.';\n",
              "          element.innerHTML = '';\n",
              "          dataTable['output_type'] = 'display_data';\n",
              "          await google.colab.output.renderOutput(dataTable, element);\n",
              "          const docLink = document.createElement('div');\n",
              "          docLink.innerHTML = docLinkHtml;\n",
              "          element.appendChild(docLink);\n",
              "        }\n",
              "      </script>\n",
              "    </div>\n",
              "  </div>\n",
              "  "
            ]
          },
          "metadata": {},
          "execution_count": 3
        }
      ]
    },
    {
      "cell_type": "code",
      "source": [
        "X = df.iloc[:,0:5].values\n",
        "y = df.iloc[:,5].values"
      ],
      "metadata": {
        "id": "o9zzUzHxC_XN"
      },
      "execution_count": 4,
      "outputs": []
    },
    {
      "cell_type": "code",
      "source": [
        "print(X[0:5])\n",
        "print(y[0:5])"
      ],
      "metadata": {
        "colab": {
          "base_uri": "https://localhost:8080/"
        },
        "id": "rp-pf0KwDBWu",
        "outputId": "f9378bc0-452a-475f-99ed-8c4df488365a"
      },
      "execution_count": 5,
      "outputs": [
        {
          "output_type": "stream",
          "name": "stdout",
          "text": [
            "[[ 27.13   2.     1.    56.52 120.57]\n",
            " [ 29.3    2.     1.    50.11 153.08]\n",
            " [ 27.84   2.     1.    55.23 101.82]\n",
            " [ 27.08   2.     1.    57.8  124.5 ]\n",
            " [ 25.51   2.     1.    50.48 160.8 ]]\n",
            "['Bayam Hijau' 'Bayam Hijau' 'Bayam Hijau' 'Bayam Hijau' 'Bayam Hijau']\n"
          ]
        }
      ]
    },
    {
      "cell_type": "code",
      "source": [
        "print(X.shape)\n",
        "print(y.shape)"
      ],
      "metadata": {
        "colab": {
          "base_uri": "https://localhost:8080/"
        },
        "id": "iAlvk1OqDCt-",
        "outputId": "07452b4f-d31f-48b5-da97-ae490aa7335f"
      },
      "execution_count": 6,
      "outputs": [
        {
          "output_type": "stream",
          "name": "stdout",
          "text": [
            "(6000, 5)\n",
            "(6000,)\n"
          ]
        }
      ]
    },
    {
      "cell_type": "code",
      "source": [
        "from sklearn.preprocessing import LabelEncoder\n",
        "encoder =  LabelEncoder()\n",
        "y1 = encoder.fit_transform(y)\n",
        "print(y1)"
      ],
      "metadata": {
        "colab": {
          "base_uri": "https://localhost:8080/"
        },
        "id": "HhVZD6ZIDEVW",
        "outputId": "e8c78698-a095-4ad9-d962-9e2c5f3f4997"
      },
      "execution_count": 7,
      "outputs": [
        {
          "output_type": "stream",
          "name": "stdout",
          "text": [
            "[0 0 0 ... 8 8 8]\n"
          ]
        }
      ]
    },
    {
      "cell_type": "code",
      "source": [
        "Y = pd.get_dummies(y1).values\n",
        "print(Y[0:5])"
      ],
      "metadata": {
        "colab": {
          "base_uri": "https://localhost:8080/"
        },
        "id": "2RY2EeI2DHYe",
        "outputId": "92aa9315-33db-476f-ff65-408f34ed15bf"
      },
      "execution_count": 8,
      "outputs": [
        {
          "output_type": "stream",
          "name": "stdout",
          "text": [
            "[[1 0 0 0 0 0 0 0 0 0 0 0]\n",
            " [1 0 0 0 0 0 0 0 0 0 0 0]\n",
            " [1 0 0 0 0 0 0 0 0 0 0 0]\n",
            " [1 0 0 0 0 0 0 0 0 0 0 0]\n",
            " [1 0 0 0 0 0 0 0 0 0 0 0]]\n"
          ]
        }
      ]
    },
    {
      "cell_type": "code",
      "source": [
        "from sklearn.model_selection import train_test_split\n",
        "\n",
        "# set aside 20% of train and test data for evaluation\n",
        "X_train, X_test, y_train, y_test = train_test_split(X, Y,\n",
        "    test_size=0.2, shuffle = True, random_state = 8)\n",
        "\n",
        "# Use the same function above for the validation set\n",
        "X_train, X_val, y_train, y_val = train_test_split(X_train, y_train, \n",
        "    test_size=0.25, random_state= 8) # 0.25 x 0.8 = 0.2"
      ],
      "metadata": {
        "id": "jTC4L5wsDL0m"
      },
      "execution_count": 9,
      "outputs": []
    },
    {
      "cell_type": "code",
      "source": [
        "model = tf.keras.Sequential([\n",
        "    tf.keras.layers.Dense(128, input_dim=5, activation='relu'),\n",
        "    tf.keras.layers.Dense(64, activation='relu'),\n",
        "    tf.keras.layers.Dense(32, activation='relu'),\n",
        "    tf.keras.layers.Dense(12, activation='softmax')\n",
        "    # tf.keras.layers.Dense(22, activation='softmax') #Example Using good Dataset\n",
        "  ])\n",
        "model"
      ],
      "metadata": {
        "colab": {
          "base_uri": "https://localhost:8080/"
        },
        "id": "QuT_hOdbDOc-",
        "outputId": "1028f3ba-29cb-4411-f45c-756608bd8fe5"
      },
      "execution_count": 10,
      "outputs": [
        {
          "output_type": "execute_result",
          "data": {
            "text/plain": [
              "<keras.engine.sequential.Sequential at 0x7f189ccd0050>"
            ]
          },
          "metadata": {},
          "execution_count": 10
        }
      ]
    },
    {
      "cell_type": "code",
      "source": [
        "model.compile(optimizer=tf.keras.optimizers.Adam(learning_rate=0.001),\n",
        "              loss='categorical_crossentropy',\n",
        "              metrics=['accuracy'])"
      ],
      "metadata": {
        "id": "Y7I4hacbDQdu"
      },
      "execution_count": 11,
      "outputs": []
    },
    {
      "cell_type": "code",
      "source": [
        "history = model.fit(X_train, y_train, \n",
        "                    batch_size=50, \n",
        "                    epochs=100, \n",
        "                    validation_data=(X_val, y_val))"
      ],
      "metadata": {
        "colab": {
          "base_uri": "https://localhost:8080/"
        },
        "id": "Nga-yvVWDR4n",
        "outputId": "170758fa-9725-40a6-8eff-6dc1ca709b49"
      },
      "execution_count": 12,
      "outputs": [
        {
          "output_type": "stream",
          "name": "stdout",
          "text": [
            "Epoch 1/100\n",
            "72/72 [==============================] - 2s 12ms/step - loss: 3.4666 - accuracy: 0.1447 - val_loss: 2.1389 - val_accuracy: 0.2342\n",
            "Epoch 2/100\n",
            "72/72 [==============================] - 1s 8ms/step - loss: 1.9942 - accuracy: 0.3122 - val_loss: 1.9195 - val_accuracy: 0.3067\n",
            "Epoch 3/100\n",
            "72/72 [==============================] - 1s 9ms/step - loss: 1.7852 - accuracy: 0.4058 - val_loss: 1.6647 - val_accuracy: 0.4517\n",
            "Epoch 4/100\n",
            "72/72 [==============================] - 0s 5ms/step - loss: 1.5719 - accuracy: 0.4753 - val_loss: 1.5122 - val_accuracy: 0.4867\n",
            "Epoch 5/100\n",
            "72/72 [==============================] - 0s 6ms/step - loss: 1.3989 - accuracy: 0.4967 - val_loss: 1.3687 - val_accuracy: 0.4908\n",
            "Epoch 6/100\n",
            "72/72 [==============================] - 0s 7ms/step - loss: 1.2632 - accuracy: 0.5125 - val_loss: 1.1612 - val_accuracy: 0.5417\n",
            "Epoch 7/100\n",
            "72/72 [==============================] - 0s 6ms/step - loss: 1.1403 - accuracy: 0.5514 - val_loss: 1.0829 - val_accuracy: 0.5533\n",
            "Epoch 8/100\n",
            "72/72 [==============================] - 0s 7ms/step - loss: 1.0604 - accuracy: 0.5714 - val_loss: 1.0248 - val_accuracy: 0.5933\n",
            "Epoch 9/100\n",
            "72/72 [==============================] - 0s 5ms/step - loss: 0.9900 - accuracy: 0.5972 - val_loss: 1.0742 - val_accuracy: 0.5783\n",
            "Epoch 10/100\n",
            "72/72 [==============================] - 0s 5ms/step - loss: 0.9993 - accuracy: 0.5950 - val_loss: 0.9382 - val_accuracy: 0.6475\n",
            "Epoch 11/100\n",
            "72/72 [==============================] - 0s 7ms/step - loss: 0.9294 - accuracy: 0.6228 - val_loss: 0.9350 - val_accuracy: 0.6000\n",
            "Epoch 12/100\n",
            "72/72 [==============================] - 1s 7ms/step - loss: 0.9119 - accuracy: 0.6208 - val_loss: 0.8534 - val_accuracy: 0.6617\n",
            "Epoch 13/100\n",
            "72/72 [==============================] - 0s 5ms/step - loss: 0.8883 - accuracy: 0.6225 - val_loss: 0.8785 - val_accuracy: 0.6642\n",
            "Epoch 14/100\n",
            "72/72 [==============================] - 0s 7ms/step - loss: 0.8648 - accuracy: 0.6419 - val_loss: 0.8221 - val_accuracy: 0.6625\n",
            "Epoch 15/100\n",
            "72/72 [==============================] - 0s 6ms/step - loss: 0.8314 - accuracy: 0.6572 - val_loss: 0.8562 - val_accuracy: 0.6592\n",
            "Epoch 16/100\n",
            "72/72 [==============================] - 0s 5ms/step - loss: 0.8620 - accuracy: 0.6328 - val_loss: 0.8392 - val_accuracy: 0.6392\n",
            "Epoch 17/100\n",
            "72/72 [==============================] - 1s 7ms/step - loss: 0.8404 - accuracy: 0.6489 - val_loss: 0.8067 - val_accuracy: 0.6808\n",
            "Epoch 18/100\n",
            "72/72 [==============================] - 1s 8ms/step - loss: 0.8680 - accuracy: 0.6369 - val_loss: 0.8031 - val_accuracy: 0.7025\n",
            "Epoch 19/100\n",
            "72/72 [==============================] - 0s 5ms/step - loss: 0.8174 - accuracy: 0.6644 - val_loss: 0.7678 - val_accuracy: 0.6808\n",
            "Epoch 20/100\n",
            "72/72 [==============================] - 1s 7ms/step - loss: 0.8012 - accuracy: 0.6672 - val_loss: 0.7824 - val_accuracy: 0.7042\n",
            "Epoch 21/100\n",
            "72/72 [==============================] - 0s 6ms/step - loss: 0.7637 - accuracy: 0.6864 - val_loss: 0.7745 - val_accuracy: 0.6758\n",
            "Epoch 22/100\n",
            "72/72 [==============================] - 1s 8ms/step - loss: 0.7632 - accuracy: 0.6786 - val_loss: 0.7760 - val_accuracy: 0.7017\n",
            "Epoch 23/100\n",
            "72/72 [==============================] - 1s 8ms/step - loss: 0.7668 - accuracy: 0.6808 - val_loss: 0.7728 - val_accuracy: 0.6975\n",
            "Epoch 24/100\n",
            "72/72 [==============================] - 1s 8ms/step - loss: 0.7427 - accuracy: 0.6869 - val_loss: 0.7016 - val_accuracy: 0.7083\n",
            "Epoch 25/100\n",
            "72/72 [==============================] - 1s 8ms/step - loss: 0.7281 - accuracy: 0.6944 - val_loss: 0.7232 - val_accuracy: 0.7075\n",
            "Epoch 26/100\n",
            "72/72 [==============================] - 0s 7ms/step - loss: 0.7140 - accuracy: 0.7044 - val_loss: 0.6990 - val_accuracy: 0.7058\n",
            "Epoch 27/100\n",
            "72/72 [==============================] - 1s 8ms/step - loss: 0.7222 - accuracy: 0.7036 - val_loss: 0.6690 - val_accuracy: 0.7308\n",
            "Epoch 28/100\n",
            "72/72 [==============================] - 0s 6ms/step - loss: 0.6981 - accuracy: 0.7092 - val_loss: 0.6818 - val_accuracy: 0.7225\n",
            "Epoch 29/100\n",
            "72/72 [==============================] - 1s 8ms/step - loss: 0.7380 - accuracy: 0.6950 - val_loss: 0.6552 - val_accuracy: 0.7333\n",
            "Epoch 30/100\n",
            "72/72 [==============================] - 1s 9ms/step - loss: 0.6757 - accuracy: 0.7219 - val_loss: 0.7025 - val_accuracy: 0.7233\n",
            "Epoch 31/100\n",
            "72/72 [==============================] - 0s 5ms/step - loss: 0.6741 - accuracy: 0.7178 - val_loss: 0.6300 - val_accuracy: 0.7383\n",
            "Epoch 32/100\n",
            "72/72 [==============================] - 1s 8ms/step - loss: 0.6892 - accuracy: 0.7111 - val_loss: 0.6428 - val_accuracy: 0.7383\n",
            "Epoch 33/100\n",
            "72/72 [==============================] - 0s 5ms/step - loss: 0.6693 - accuracy: 0.7178 - val_loss: 0.6996 - val_accuracy: 0.7142\n",
            "Epoch 34/100\n",
            "72/72 [==============================] - 0s 5ms/step - loss: 0.6522 - accuracy: 0.7278 - val_loss: 0.6441 - val_accuracy: 0.7408\n",
            "Epoch 35/100\n",
            "72/72 [==============================] - 1s 9ms/step - loss: 0.6517 - accuracy: 0.7278 - val_loss: 0.6269 - val_accuracy: 0.7475\n",
            "Epoch 36/100\n",
            "72/72 [==============================] - 1s 8ms/step - loss: 0.6368 - accuracy: 0.7344 - val_loss: 0.6369 - val_accuracy: 0.7492\n",
            "Epoch 37/100\n",
            "72/72 [==============================] - 0s 6ms/step - loss: 0.6419 - accuracy: 0.7344 - val_loss: 0.6769 - val_accuracy: 0.7392\n",
            "Epoch 38/100\n",
            "72/72 [==============================] - 1s 10ms/step - loss: 0.6149 - accuracy: 0.7483 - val_loss: 0.6393 - val_accuracy: 0.7500\n",
            "Epoch 39/100\n",
            "72/72 [==============================] - 0s 7ms/step - loss: 0.6268 - accuracy: 0.7481 - val_loss: 0.6765 - val_accuracy: 0.7358\n",
            "Epoch 40/100\n",
            "72/72 [==============================] - 0s 6ms/step - loss: 0.6342 - accuracy: 0.7381 - val_loss: 0.6868 - val_accuracy: 0.7458\n",
            "Epoch 41/100\n",
            "72/72 [==============================] - 0s 5ms/step - loss: 0.6167 - accuracy: 0.7522 - val_loss: 0.6363 - val_accuracy: 0.7558\n",
            "Epoch 42/100\n",
            "72/72 [==============================] - 0s 7ms/step - loss: 0.5896 - accuracy: 0.7686 - val_loss: 0.6545 - val_accuracy: 0.7575\n",
            "Epoch 43/100\n",
            "72/72 [==============================] - 0s 6ms/step - loss: 0.6088 - accuracy: 0.7569 - val_loss: 0.6138 - val_accuracy: 0.7567\n",
            "Epoch 44/100\n",
            "72/72 [==============================] - 1s 7ms/step - loss: 0.5984 - accuracy: 0.7517 - val_loss: 0.5845 - val_accuracy: 0.7650\n",
            "Epoch 45/100\n",
            "72/72 [==============================] - 1s 7ms/step - loss: 0.5672 - accuracy: 0.7817 - val_loss: 0.6097 - val_accuracy: 0.7667\n",
            "Epoch 46/100\n",
            "72/72 [==============================] - 1s 8ms/step - loss: 0.5935 - accuracy: 0.7550 - val_loss: 0.5694 - val_accuracy: 0.7783\n",
            "Epoch 47/100\n",
            "72/72 [==============================] - 0s 3ms/step - loss: 0.5748 - accuracy: 0.7633 - val_loss: 0.5512 - val_accuracy: 0.7767\n",
            "Epoch 48/100\n",
            "72/72 [==============================] - 0s 3ms/step - loss: 0.5719 - accuracy: 0.7708 - val_loss: 0.5759 - val_accuracy: 0.7892\n",
            "Epoch 49/100\n",
            "72/72 [==============================] - 0s 3ms/step - loss: 0.5512 - accuracy: 0.7839 - val_loss: 0.7952 - val_accuracy: 0.6700\n",
            "Epoch 50/100\n",
            "72/72 [==============================] - 0s 3ms/step - loss: 0.5808 - accuracy: 0.7772 - val_loss: 0.6698 - val_accuracy: 0.7167\n",
            "Epoch 51/100\n",
            "72/72 [==============================] - 0s 3ms/step - loss: 0.5497 - accuracy: 0.7903 - val_loss: 0.5393 - val_accuracy: 0.8000\n",
            "Epoch 52/100\n",
            "72/72 [==============================] - 0s 3ms/step - loss: 0.5239 - accuracy: 0.7983 - val_loss: 0.5515 - val_accuracy: 0.7933\n",
            "Epoch 53/100\n",
            "72/72 [==============================] - 0s 3ms/step - loss: 0.5378 - accuracy: 0.7883 - val_loss: 0.5309 - val_accuracy: 0.8017\n",
            "Epoch 54/100\n",
            "72/72 [==============================] - 0s 3ms/step - loss: 0.5321 - accuracy: 0.7981 - val_loss: 0.5331 - val_accuracy: 0.7958\n",
            "Epoch 55/100\n",
            "72/72 [==============================] - 0s 3ms/step - loss: 0.5432 - accuracy: 0.7875 - val_loss: 0.5918 - val_accuracy: 0.7625\n",
            "Epoch 56/100\n",
            "72/72 [==============================] - 0s 3ms/step - loss: 0.5383 - accuracy: 0.7922 - val_loss: 0.5319 - val_accuracy: 0.7975\n",
            "Epoch 57/100\n",
            "72/72 [==============================] - 0s 3ms/step - loss: 0.5194 - accuracy: 0.8097 - val_loss: 0.5074 - val_accuracy: 0.8092\n",
            "Epoch 58/100\n",
            "72/72 [==============================] - 0s 3ms/step - loss: 0.5031 - accuracy: 0.8161 - val_loss: 0.5284 - val_accuracy: 0.7975\n",
            "Epoch 59/100\n",
            "72/72 [==============================] - 0s 3ms/step - loss: 0.5017 - accuracy: 0.8122 - val_loss: 0.5385 - val_accuracy: 0.7867\n",
            "Epoch 60/100\n",
            "72/72 [==============================] - 0s 4ms/step - loss: 0.5588 - accuracy: 0.7786 - val_loss: 0.5659 - val_accuracy: 0.7983\n",
            "Epoch 61/100\n",
            "72/72 [==============================] - 0s 3ms/step - loss: 0.5141 - accuracy: 0.8028 - val_loss: 0.5254 - val_accuracy: 0.8033\n",
            "Epoch 62/100\n",
            "72/72 [==============================] - 0s 3ms/step - loss: 0.5089 - accuracy: 0.8025 - val_loss: 0.5505 - val_accuracy: 0.7850\n",
            "Epoch 63/100\n",
            "72/72 [==============================] - 0s 3ms/step - loss: 0.4997 - accuracy: 0.8083 - val_loss: 0.5562 - val_accuracy: 0.7875\n",
            "Epoch 64/100\n",
            "72/72 [==============================] - 0s 3ms/step - loss: 0.4818 - accuracy: 0.8158 - val_loss: 0.4962 - val_accuracy: 0.8242\n",
            "Epoch 65/100\n",
            "72/72 [==============================] - 0s 3ms/step - loss: 0.4995 - accuracy: 0.8106 - val_loss: 0.4877 - val_accuracy: 0.8350\n",
            "Epoch 66/100\n",
            "72/72 [==============================] - 0s 3ms/step - loss: 0.4781 - accuracy: 0.8231 - val_loss: 0.5748 - val_accuracy: 0.7967\n",
            "Epoch 67/100\n",
            "72/72 [==============================] - 0s 3ms/step - loss: 0.4944 - accuracy: 0.8119 - val_loss: 0.5421 - val_accuracy: 0.7883\n",
            "Epoch 68/100\n",
            "72/72 [==============================] - 0s 3ms/step - loss: 0.4750 - accuracy: 0.8236 - val_loss: 0.5029 - val_accuracy: 0.8125\n",
            "Epoch 69/100\n",
            "72/72 [==============================] - 0s 3ms/step - loss: 0.4760 - accuracy: 0.8222 - val_loss: 0.4719 - val_accuracy: 0.8308\n",
            "Epoch 70/100\n",
            "72/72 [==============================] - 0s 3ms/step - loss: 0.4869 - accuracy: 0.8108 - val_loss: 0.4945 - val_accuracy: 0.8083\n",
            "Epoch 71/100\n",
            "72/72 [==============================] - 0s 3ms/step - loss: 0.4823 - accuracy: 0.8147 - val_loss: 0.5088 - val_accuracy: 0.8008\n",
            "Epoch 72/100\n",
            "72/72 [==============================] - 0s 4ms/step - loss: 0.4961 - accuracy: 0.8061 - val_loss: 0.4983 - val_accuracy: 0.8100\n",
            "Epoch 73/100\n",
            "72/72 [==============================] - 0s 3ms/step - loss: 0.4793 - accuracy: 0.8183 - val_loss: 0.5632 - val_accuracy: 0.7733\n",
            "Epoch 74/100\n",
            "72/72 [==============================] - 0s 3ms/step - loss: 0.4983 - accuracy: 0.8100 - val_loss: 0.4760 - val_accuracy: 0.8258\n",
            "Epoch 75/100\n",
            "72/72 [==============================] - 0s 3ms/step - loss: 0.4669 - accuracy: 0.8269 - val_loss: 0.5607 - val_accuracy: 0.7650\n",
            "Epoch 76/100\n",
            "72/72 [==============================] - 0s 3ms/step - loss: 0.5026 - accuracy: 0.8094 - val_loss: 0.5133 - val_accuracy: 0.8050\n",
            "Epoch 77/100\n",
            "72/72 [==============================] - 0s 3ms/step - loss: 0.4685 - accuracy: 0.8281 - val_loss: 0.5461 - val_accuracy: 0.7908\n",
            "Epoch 78/100\n",
            "72/72 [==============================] - 0s 3ms/step - loss: 0.4608 - accuracy: 0.8281 - val_loss: 0.5353 - val_accuracy: 0.7958\n",
            "Epoch 79/100\n",
            "72/72 [==============================] - 0s 3ms/step - loss: 0.4907 - accuracy: 0.8136 - val_loss: 0.4880 - val_accuracy: 0.8283\n",
            "Epoch 80/100\n",
            "72/72 [==============================] - 0s 3ms/step - loss: 0.4693 - accuracy: 0.8203 - val_loss: 0.4925 - val_accuracy: 0.8067\n",
            "Epoch 81/100\n",
            "72/72 [==============================] - 0s 3ms/step - loss: 0.4771 - accuracy: 0.8211 - val_loss: 0.4955 - val_accuracy: 0.8267\n",
            "Epoch 82/100\n",
            "72/72 [==============================] - 0s 3ms/step - loss: 0.5128 - accuracy: 0.8031 - val_loss: 0.4683 - val_accuracy: 0.8233\n",
            "Epoch 83/100\n",
            "72/72 [==============================] - 0s 3ms/step - loss: 0.4422 - accuracy: 0.8383 - val_loss: 0.4591 - val_accuracy: 0.8367\n",
            "Epoch 84/100\n",
            "72/72 [==============================] - 0s 3ms/step - loss: 0.4362 - accuracy: 0.8400 - val_loss: 0.4615 - val_accuracy: 0.8317\n",
            "Epoch 85/100\n",
            "72/72 [==============================] - 0s 3ms/step - loss: 0.4561 - accuracy: 0.8269 - val_loss: 0.4942 - val_accuracy: 0.8000\n",
            "Epoch 86/100\n",
            "72/72 [==============================] - 0s 3ms/step - loss: 0.4718 - accuracy: 0.8169 - val_loss: 0.5626 - val_accuracy: 0.7975\n",
            "Epoch 87/100\n",
            "72/72 [==============================] - 0s 3ms/step - loss: 0.4908 - accuracy: 0.8108 - val_loss: 0.4676 - val_accuracy: 0.8192\n",
            "Epoch 88/100\n",
            "72/72 [==============================] - 0s 3ms/step - loss: 0.4390 - accuracy: 0.8367 - val_loss: 0.4932 - val_accuracy: 0.8150\n",
            "Epoch 89/100\n",
            "72/72 [==============================] - 0s 3ms/step - loss: 0.4549 - accuracy: 0.8264 - val_loss: 0.4868 - val_accuracy: 0.8192\n",
            "Epoch 90/100\n",
            "72/72 [==============================] - 0s 3ms/step - loss: 0.4481 - accuracy: 0.8308 - val_loss: 0.5622 - val_accuracy: 0.7850\n",
            "Epoch 91/100\n",
            "72/72 [==============================] - 0s 3ms/step - loss: 0.4748 - accuracy: 0.8211 - val_loss: 0.4680 - val_accuracy: 0.8258\n",
            "Epoch 92/100\n",
            "72/72 [==============================] - 0s 3ms/step - loss: 0.4152 - accuracy: 0.8456 - val_loss: 0.4533 - val_accuracy: 0.8333\n",
            "Epoch 93/100\n",
            "72/72 [==============================] - 0s 3ms/step - loss: 0.4405 - accuracy: 0.8303 - val_loss: 0.4491 - val_accuracy: 0.8300\n",
            "Epoch 94/100\n",
            "72/72 [==============================] - 0s 4ms/step - loss: 0.4372 - accuracy: 0.8356 - val_loss: 0.5022 - val_accuracy: 0.8058\n",
            "Epoch 95/100\n",
            "72/72 [==============================] - 0s 4ms/step - loss: 0.4264 - accuracy: 0.8456 - val_loss: 0.4904 - val_accuracy: 0.8200\n",
            "Epoch 96/100\n",
            "72/72 [==============================] - 0s 3ms/step - loss: 0.4288 - accuracy: 0.8333 - val_loss: 0.5546 - val_accuracy: 0.7858\n",
            "Epoch 97/100\n",
            "72/72 [==============================] - 0s 3ms/step - loss: 0.4328 - accuracy: 0.8425 - val_loss: 0.5078 - val_accuracy: 0.8067\n",
            "Epoch 98/100\n",
            "72/72 [==============================] - 0s 3ms/step - loss: 0.4275 - accuracy: 0.8389 - val_loss: 0.4545 - val_accuracy: 0.8317\n",
            "Epoch 99/100\n",
            "72/72 [==============================] - 0s 3ms/step - loss: 0.4357 - accuracy: 0.8381 - val_loss: 0.5067 - val_accuracy: 0.8083\n",
            "Epoch 100/100\n",
            "72/72 [==============================] - 0s 3ms/step - loss: 0.4420 - accuracy: 0.8397 - val_loss: 0.4456 - val_accuracy: 0.8325\n"
          ]
        }
      ]
    },
    {
      "cell_type": "code",
      "source": [
        "model.save(\"model.h5\")"
      ],
      "metadata": {
        "id": "G1gmJ160XFE9"
      },
      "execution_count": 13,
      "outputs": []
    },
    {
      "cell_type": "code",
      "source": [
        "loss, accuracy = model.evaluate(X_test, y_test, verbose=2)\n",
        "print('Test loss:', loss)\n",
        "print('Test accuracy:', accuracy)"
      ],
      "metadata": {
        "colab": {
          "base_uri": "https://localhost:8080/"
        },
        "id": "uK-Jy-O3DT4O",
        "outputId": "1829aca3-9d4e-4f93-ed46-b1a89e3bd3ec"
      },
      "execution_count": 24,
      "outputs": [
        {
          "output_type": "stream",
          "name": "stdout",
          "text": [
            "38/38 - 0s - loss: 0.4539 - accuracy: 0.8442 - 106ms/epoch - 3ms/step\n",
            "Test loss: 0.4538521468639374\n",
            "Test accuracy: 0.8441666960716248\n"
          ]
        }
      ]
    },
    {
      "cell_type": "code",
      "source": [
        "new_model = models.load_model(\"model.h5\")\n",
        "loss, accuracy = new_model.evaluate(X_test, y_test, verbose=2)\n",
        "print('Test loss:', loss)\n",
        "print('Test accuracy:', accuracy)"
      ],
      "metadata": {
        "colab": {
          "base_uri": "https://localhost:8080/"
        },
        "id": "SC5r2ZZjXlA1",
        "outputId": "aa567ae1-952a-4032-b5ea-777a6d74d20a"
      },
      "execution_count": 25,
      "outputs": [
        {
          "output_type": "stream",
          "name": "stdout",
          "text": [
            "38/38 - 0s - loss: 0.4539 - accuracy: 0.8442 - 178ms/epoch - 5ms/step\n",
            "Test loss: 0.4538521468639374\n",
            "Test accuracy: 0.8441666960716248\n"
          ]
        }
      ]
    },
    {
      "cell_type": "code",
      "source": [
        "#-----------------------------------------------------------\n",
        "# Retrieve a list of list results on training and test data\n",
        "# sets for each training epoch\n",
        "#-----------------------------------------------------------\n",
        "acc      = history.history['accuracy']\n",
        "val_acc  = history.history['val_accuracy']\n",
        "loss     = history.history['loss']\n",
        "val_loss = history.history['val_loss']\n",
        "\n",
        "epochs   = range(len(acc)) # Get number of epochs\n",
        "\n",
        "#------------------------------------------------\n",
        "# Plot training and validation accuracy per epoch\n",
        "#------------------------------------------------\n",
        "plt.plot  (epochs, acc)\n",
        "plt.plot  (epochs, val_acc)\n",
        "plt.title ('Training and validation accuracy')\n",
        "plt.figure()\n",
        "\n",
        "#------------------------------------------------\n",
        "# Plot training and validation loss per epoch\n",
        "#------------------------------------------------\n",
        "plt.plot  (epochs, loss)\n",
        "plt.plot  (epochs, val_loss)\n",
        "plt.title ('Training and validation loss')"
      ],
      "metadata": {
        "colab": {
          "base_uri": "https://localhost:8080/",
          "height": 562
        },
        "id": "0h0VPUgpDVW2",
        "outputId": "058bd57c-c6db-4a0e-8a05-55c82c8afd83"
      },
      "execution_count": 16,
      "outputs": [
        {
          "output_type": "execute_result",
          "data": {
            "text/plain": [
              "Text(0.5, 1.0, 'Training and validation loss')"
            ]
          },
          "metadata": {},
          "execution_count": 16
        },
        {
          "output_type": "display_data",
          "data": {
            "text/plain": [
              "<Figure size 432x288 with 1 Axes>"
            ],
            "image/png": "[encoded data removed]"
          },
          "metadata": {
            "needs_background": "light"
          }
        },
        {
          "output_type": "display_data",
          "data": {
            "text/plain": [
              "<Figure size 432x288 with 1 Axes>"
            ],
            "image/png": "[encoded data removed]"
          },
          "metadata": {
            "needs_background": "light"
          }
        }
      ]
    },
    {
      "cell_type": "code",
      "source": [
        "y_pred = model.predict(X_test)\n",
        "y_pred"
      ],
      "metadata": {
        "colab": {
          "base_uri": "https://localhost:8080/"
        },
        "id": "OS0lxyreDYh9",
        "outputId": "403a2db6-55f8-4701-cfb7-c4db5e6df546"
      },
      "execution_count": 17,
      "outputs": [
        {
          "output_type": "execute_result",
          "data": {
            "text/plain": [
              "array([[1.63203600e-11, 2.31196536e-05, 9.97938454e-01, ...,\n",
              "        4.49374634e-28, 6.40351433e-13, 2.02431460e-03],\n",
              "       [2.82942531e-10, 2.04261796e-05, 9.98358667e-01, ...,\n",
              "        4.54606634e-27, 1.84212346e-12, 1.61493663e-03],\n",
              "       [1.08934706e-04, 5.34077780e-03, 1.46176690e-15, ...,\n",
              "        6.16716210e-18, 3.14215321e-23, 1.97391782e-05],\n",
              "       ...,\n",
              "       [6.38508558e-01, 2.41269082e-01, 7.74782222e-07, ...,\n",
              "        5.15134016e-19, 5.84066902e-06, 6.90797344e-02],\n",
              "       [2.23134339e-06, 4.79366109e-02, 7.69957991e-13, ...,\n",
              "        6.18442893e-01, 1.56768481e-20, 9.31791233e-17],\n",
              "       [1.73410318e-13, 3.16242881e-06, 9.99879837e-01, ...,\n",
              "        1.28692850e-26, 1.60670952e-14, 1.10406720e-04]], dtype=float32)"
            ]
          },
          "metadata": {},
          "execution_count": 17
        }
      ]
    },
    {
      "cell_type": "code",
      "source": [
        "actual = np.argmax(y_test,axis=1)\n",
        "predicted = np.argsort(y_pred,axis=1)\n",
        "print(f\"Actual: {encoder.inverse_transform(actual[:1])}\\nPredicted: \")\n",
        "for top_5 in predicted[:1,7:]:\n",
        "  top_5 = encoder.inverse_transform(top_5)\n",
        "  i = 1\n",
        "  for name in top_5[::-1]:\n",
        "    print(f\"{i}. {name}\")\n",
        "    i += 1"
      ],
      "metadata": {
        "colab": {
          "base_uri": "https://localhost:8080/"
        },
        "id": "3hCkRpNkDZtw",
        "outputId": "650dd665-3a9c-4113-e7e2-70e014c04dc2"
      },
      "execution_count": 18,
      "outputs": [
        {
          "output_type": "stream",
          "name": "stdout",
          "text": [
            "Actual: ['Kubis']\n",
            "Predicted: \n",
            "1. Kubis\n",
            "2. Tomat\n",
            "3. Kangkung\n",
            "4. Lavender\n",
            "5. Bayam Hijau\n"
          ]
        }
      ]
    }
  ]
}